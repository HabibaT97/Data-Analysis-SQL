{
 "cells": [
  {
   "cell_type": "markdown",
   "metadata": {
    "dc": {
     "key": "3"
    },
    "deletable": false,
    "editable": false,
    "run_control": {
     "frozen": true
    },
    "tags": [
     "context"
    ]
   },
   "source": [
    "## 1. Analysis of costs to run animal shelters\n",
    "<p>You are working as a data analyst in the animal welfare department. In preparation for next year's budget, the head of your department would like to know the total cost to shelter animals, broken down by each animal type and size combination (i.e., 'small dogs', 'large dogs', etc.). You need to prepare a table that contains this information.</p>\n",
    "<p>The total cost to shelter an animal for the year is calculated as the sum of three factors: the size and animal type, the age, and the location.</p>\n",
    "<ul>\n",
    "<li>The base cost of sheltering an animal is based upon its size and type. The costs per animal type and size are contained in the <code>size_costs</code> table. The criteria for classifying size has recently been updated, and so you will need to categorize animals based upon the following table:</li>\n",
    "</ul>\n",
    "<table>\n",
    "<thead>\n",
    "<tr>\n",
    "<th style=\"text-align:right;\"></th>\n",
    "<th style=\"text-align:right;\">Small</th>\n",
    "<th>Medium</th>\n",
    "<th>Large</th>\n",
    "</tr>\n",
    "</thead>\n",
    "<tbody>\n",
    "<tr>\n",
    "<td style=\"text-align:right;\">Dog</td>\n",
    "<td style=\"text-align:right;\">&lt;= 10 lbs</td>\n",
    "<td>10 lbs &lt; and &lt;= 30 lbs</td>\n",
    "<td>30 lbs &lt;</td>\n",
    "</tr>\n",
    "<tr>\n",
    "<td style=\"text-align:right;\">Cat</td>\n",
    "<td style=\"text-align:right;\">&lt;= 5 lbs</td>\n",
    "<td>5 lbs &lt; and &lt;= 7 lbs</td>\n",
    "<td>7 lbs &lt;</td>\n",
    "</tr>\n",
    "<tr>\n",
    "<td style=\"text-align:right;\">Bird</td>\n",
    "<td style=\"text-align:right;\">&lt;= 0.7 lbs</td>\n",
    "<td>0.7 lbs &lt; and &lt;= 1.1 lbs</td>\n",
    "<td>1.1 lbs &lt;</td>\n",
    "</tr>\n",
    "</tbody>\n",
    "</table>\n",
    "<ul>\n",
    "<li>Older animals cost more, and so an age cost (contained in the <code>age_costs</code> table) is added. Each animal's age should be calculated as the age by the end of the year (December 31st, 2021).</li>\n",
    "<li>There is a location cost depending on where the animal is sheltered (contained in the <code>location_costs</code> table). </li>\n",
    "<li>The calculation should not include animals that have been sponsored by private charities (sponsored animals are listed in the <code>sponsored_animals</code> table).</li>\n",
    "</ul>\n",
    "<p>For future visualization purposes, you will also need to include a <code>percentage</code> column in your result. This percentage should reflect the fraction of the total cost to be allocated to each animal and size combination.</p>\n",
    "<p>The data you need is available in the tables shown in the database schema below.</p>\n",
    "<h5 id=\"databaseschema\">Database Schema</h5>\n",
    "<p><img src=\"https://assets.datacamp.com/production/repositories/5934/datasets/a946a159c0024ee0995f7a030f2c0cf802203835/diagram.PNG\" width=\"500\" height=\"500\"> </p>"
   ]
  },
  {
   "cell_type": "code",
   "execution_count": 32,
   "metadata": {
    "dc": {
     "key": "3"
    },
    "scrolled": true
   },
   "outputs": [
    {
     "name": "stdout",
     "output_type": "stream",
     "text": [
      "Done.\n",
      "Done.\n"
     ]
    },
    {
     "data": {
      "text/plain": [
       "[]"
      ]
     },
     "execution_count": 32,
     "metadata": {},
     "output_type": "execute_result"
    }
   ],
   "source": [
    "%%sql\n",
    "postgresql:///animal_shelters\n",
    "Alter table animals DROP age;\n",
    "ALTER table animals DROP size_id;"
   ]
  },
  {
   "cell_type": "code",
   "execution_count": 33,
   "metadata": {
    "dc": {
     "key": "3"
    },
    "tags": [
     "sample_code"
    ]
   },
   "outputs": [
    {
     "name": "stdout",
     "output_type": "stream",
     "text": [
      "Done.\n",
      "Done.\n",
      "Done.\n",
      "11899 rows affected.\n"
     ]
    },
    {
     "data": {
      "text/plain": [
       "[]"
      ]
     },
     "execution_count": 33,
     "metadata": {},
     "output_type": "execute_result"
    }
   ],
   "source": [
    "%%sql\n",
    "postgresql:///animal_shelters\n",
    "\n",
    "ALTER TABLE animals ADD age int; \n",
    "ALTER TABLE animals ADD size_id varchar(50);\n",
    "ALTER TABLE age_costs ALTER COLUMN age TYPE int USING age::integer; \n",
    "\n",
    "UPDATE animals \n",
    "SET Age = CAST(date_part('year', AGE(CAST('12-31-2021' as date), CAST(birthdate as date))) as int),\n",
    "size_id = (CASE WHEN animaltype = 'Dog' \n",
    "           THEN (CASE WHEN weight<=10 THEN 'DS' WHEN weight>10 and weight<=30 THEN 'DM' WHEN weight>30 THEN 'DL' END)\n",
    "           WHEN animaltype = 'Cat' \n",
    "           THEN (CASE WHEN weight<=5 THEN 'CS' WHEN weight>5 and weight<=7 THEN 'CM' WHEN weight>7 THEN 'CL' END)\n",
    "           WHEN animaltype = 'Bird' \n",
    "           THEN (CASE WHEN weight<=0.7 THEN 'BS' WHEN weight>0.7 and weight<=1.1 THEN 'BM' WHEN weight>1.1 THEN 'BL' END)\n",
    "          END)\n",
    "\n",
    "           "
   ]
  },
  {
   "cell_type": "code",
   "execution_count": 34,
   "metadata": {
    "dc": {
     "key": "3"
    }
   },
   "outputs": [
    {
     "name": "stdout",
     "output_type": "stream",
     "text": [
      "5 rows affected.\n"
     ]
    },
    {
     "data": {
      "text/html": [
       "<table>\n",
       "    <thead>\n",
       "        <tr>\n",
       "            <th>animalid</th>\n",
       "            <th>birthdate</th>\n",
       "            <th>animaltype</th>\n",
       "            <th>color</th>\n",
       "            <th>weight</th>\n",
       "            <th>location</th>\n",
       "            <th>age</th>\n",
       "            <th>size_id</th>\n",
       "        </tr>\n",
       "    </thead>\n",
       "    <tbody>\n",
       "        <tr>\n",
       "            <td>d3c29b4569fa66</td>\n",
       "            <td>01/18/2019</td>\n",
       "            <td>Dog</td>\n",
       "            <td>Black</td>\n",
       "            <td>39.0</td>\n",
       "            <td>San Antonio</td>\n",
       "            <td>2</td>\n",
       "            <td>DL</td>\n",
       "        </tr>\n",
       "        <tr>\n",
       "            <td>0a2749f68de7eb</td>\n",
       "            <td>02/05/2005</td>\n",
       "            <td>Dog</td>\n",
       "            <td>Black</td>\n",
       "            <td>17.0</td>\n",
       "            <td>Austin</td>\n",
       "            <td>16</td>\n",
       "            <td>DM</td>\n",
       "        </tr>\n",
       "        <tr>\n",
       "            <td>39bfe3d33a40dc</td>\n",
       "            <td>02/26/2014</td>\n",
       "            <td>Dog</td>\n",
       "            <td>Red</td>\n",
       "            <td>5.0</td>\n",
       "            <td>Dallas</td>\n",
       "            <td>7</td>\n",
       "            <td>DS</td>\n",
       "        </tr>\n",
       "        <tr>\n",
       "            <td>31c15d37470e7a</td>\n",
       "            <td>04/17/2018</td>\n",
       "            <td>Cat</td>\n",
       "            <td>Black</td>\n",
       "            <td>8.0</td>\n",
       "            <td>Houston</td>\n",
       "            <td>3</td>\n",
       "            <td>CL</td>\n",
       "        </tr>\n",
       "        <tr>\n",
       "            <td>2ca3a8c09c32fb</td>\n",
       "            <td>09/22/2015</td>\n",
       "            <td>Cat</td>\n",
       "            <td>Black</td>\n",
       "            <td>5.0</td>\n",
       "            <td>Houston</td>\n",
       "            <td>6</td>\n",
       "            <td>CS</td>\n",
       "        </tr>\n",
       "    </tbody>\n",
       "</table>"
      ],
      "text/plain": [
       "[('d3c29b4569fa66', '01/18/2019', 'Dog', 'Black', 39.0, 'San Antonio', 2, 'DL'),\n",
       " ('0a2749f68de7eb', '02/05/2005', 'Dog', 'Black', 17.0, 'Austin', 16, 'DM'),\n",
       " ('39bfe3d33a40dc', '02/26/2014', 'Dog', 'Red', 5.0, 'Dallas', 7, 'DS'),\n",
       " ('31c15d37470e7a', '04/17/2018', 'Cat', 'Black', 8.0, 'Houston', 3, 'CL'),\n",
       " ('2ca3a8c09c32fb', '09/22/2015', 'Cat', 'Black', 5.0, 'Houston', 6, 'CS')]"
      ]
     },
     "execution_count": 34,
     "metadata": {},
     "output_type": "execute_result"
    }
   ],
   "source": [
    "%%sql\n",
    "postgresql:///animal_shelters\n",
    "    \n",
    "select * \n",
    "from animals\n",
    "limit 5;"
   ]
  },
  {
   "cell_type": "code",
   "execution_count": 35,
   "metadata": {
    "dc": {
     "key": "3"
    }
   },
   "outputs": [
    {
     "name": "stdout",
     "output_type": "stream",
     "text": [
      "(psycopg2.errors.DuplicateTable) relation \"result\" already exists\n",
      "\n",
      "[SQL: CREATE TABLE result as (\n",
      "select a.animaltype, sc.size, sum(ac.costs + sc.costs + lc.costs) as total\n",
      "from animals as a  \n",
      "left join sponsored_animals as sa on a.animalid = sa.sponsorid \n",
      "inner join age_costs as ac on a.age = ac.age\n",
      "inner join size_costs as sc on a.size_id = sc.sizeid\n",
      "inner join location_costs as lc on a.location = lc.location\n",
      "where sa.sponsorid is null\n",
      "group by a.animaltype, sc.size\n",
      "order by a.animaltype, sc.size DESC\n",
      ");]\n",
      "(Background on this error at: http://sqlalche.me/e/14/f405)\n"
     ]
    }
   ],
   "source": [
    "%%sql\n",
    "postgresql:///animal_shelters\n",
    "\n",
    "CREATE TABLE result as (\n",
    "select a.animaltype, sc.size, sum(ac.costs + sc.costs + lc.costs) as total\n",
    "from animals as a  \n",
    "left join sponsored_animals as sa on a.animalid = sa.sponsorid \n",
    "inner join age_costs as ac on a.age = ac.age\n",
    "inner join size_costs as sc on a.size_id = sc.sizeid\n",
    "inner join location_costs as lc on a.location = lc.location\n",
    "where sa.sponsorid is null\n",
    "group by a.animaltype, sc.size\n",
    "order by a.animaltype, sc.size DESC\n",
    "); \n"
   ]
  },
  {
   "cell_type": "code",
   "execution_count": 36,
   "metadata": {
    "dc": {
     "key": "3"
    },
    "scrolled": true
   },
   "outputs": [
    {
     "name": "stdout",
     "output_type": "stream",
     "text": [
      "(psycopg2.errors.DuplicateTable) relation \"expense_total\" already exists\n",
      "\n",
      "[SQL: select sum(total) into expense_total from result;]\n",
      "(Background on this error at: http://sqlalche.me/e/14/f405)\n"
     ]
    }
   ],
   "source": [
    "%%sql\n",
    "postgresql:///animal_shelters\n",
    "\n",
    "select sum(total) into expense_total from result; "
   ]
  },
  {
   "cell_type": "code",
   "execution_count": null,
   "metadata": {
    "dc": {
     "key": "3"
    }
   },
   "outputs": [],
   "source": [
    "%%sql\n",
    "postgresql:///animal_shelters\n",
    "\n",
    "select animaltype, size, total, round(((total/sum)*100),2) as percentage\n",
    "from result, expense_total;"
   ]
  }
 ],
 "metadata": {
  "kernelspec": {
   "display_name": "Python 3",
   "language": "python",
   "name": "python3"
  },
  "language_info": {
   "codemirror_mode": {
    "name": "ipython",
    "version": 3
   },
   "file_extension": ".py",
   "mimetype": "text/x-python",
   "name": "python",
   "nbconvert_exporter": "python",
   "pygments_lexer": "ipython3",
   "version": "3.8.8"
  }
 },
 "nbformat": 4,
 "nbformat_minor": 2
}
